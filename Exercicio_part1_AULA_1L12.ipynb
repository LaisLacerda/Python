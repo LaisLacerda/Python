{
  "nbformat": 4,
  "nbformat_minor": 0,
  "metadata": {
    "colab": {
      "name": "Exercicio_part1- AULA 1L12.ipynb",
      "provenance": [],
      "collapsed_sections": []
    },
    "kernelspec": {
      "name": "python3",
      "display_name": "Python 3"
    },
    "language_info": {
      "name": "python"
    }
  },
  "cells": [
    {
      "cell_type": "markdown",
      "metadata": {
        "id": "QGYr7MlqeSlC"
      },
      "source": [
        "**Comando em Python utilizado para exibir texto na tela**"
      ]
    },
    {
      "cell_type": "code",
      "metadata": {
        "id": "kjUvtIxHeF1I",
        "colab": {
          "base_uri": "https://localhost:8080/"
        },
        "outputId": "7987408f-b7b7-4535-e90c-0659f8e14596"
      },
      "source": [
        "#escreva seu código aqui\n",
        "\n",
        "print('Estou participando da Trilha de Inteligencia Artificial.')"
      ],
      "execution_count": 1,
      "outputs": [
        {
          "output_type": "stream",
          "name": "stdout",
          "text": [
            "Estou participando da Trilha de Inteligencia Artificial.\n"
          ]
        }
      ]
    },
    {
      "cell_type": "markdown",
      "source": [
        "**Escreva um programa em Python que solicita ao usuário que digite seu nome, e em seguida armazena em uma variável o que foi digitado, exibindo uma mensagem personalizada na tela.**"
      ],
      "metadata": {
        "id": "73C2rDPfY0Eq"
      }
    },
    {
      "cell_type": "code",
      "source": [
        "#escreva seu código aqui\n",
        "\n",
        "nome = input('Digite seu nome: ')\n",
        "print('Bem vinda(o), ' + nome + '!')\n"
      ],
      "metadata": {
        "colab": {
          "base_uri": "https://localhost:8080/"
        },
        "id": "0ebgtKLgZAlg",
        "outputId": "249cb7c3-d207-42fa-e878-17e24f8c249f"
      },
      "execution_count": 2,
      "outputs": [
        {
          "output_type": "stream",
          "name": "stdout",
          "text": [
            "Digite seu nome: Lais\n",
            "Bem vinda(o), Lais!\n"
          ]
        }
      ]
    },
    {
      "cell_type": "markdown",
      "metadata": {
        "id": "smHB_KEPMX1s"
      },
      "source": [
        "**Escreva um programa em Python que recebe dois números e mostra o resultado da soma e a diferença entre os dois.**"
      ]
    },
    {
      "cell_type": "code",
      "metadata": {
        "id": "mH3swrdLMZX6",
        "colab": {
          "base_uri": "https://localhost:8080/"
        },
        "outputId": "0cd1276d-35a7-422b-de0d-b491dc2f2412"
      },
      "source": [
        "#escreva seu código aqui\n",
        "\n",
        "numero1 = int(input('Digite um numero: '))\n",
        "numero2 = int(input('Digite outro numero: '))\n",
        "\n",
        "soma = numero1 + numero2\n",
        "subtracao = numero1 - numero2\n",
        "print('A soma de ', numero1, ' + ' , numero2 , ' é: ' , soma)\n",
        "print('A diferença entre eles é de: ' , subtracao) "
      ],
      "execution_count": 10,
      "outputs": [
        {
          "output_type": "stream",
          "name": "stdout",
          "text": [
            "Digite um numero: 14\n",
            "Digite outro numero: 25\n",
            "A soma de  14  +  25  é:  39\n",
            "A diferença entre eles é de:  -11\n"
          ]
        }
      ]
    },
    {
      "cell_type": "markdown",
      "metadata": {
        "id": "CDOR4sxXdjLx"
      },
      "source": [
        "**Armazene três números nas variáveis “a”, “b” e “c”, realize as operações solicitadas e armazene o resultado na variável \"r\". Exiba na tela o resultado de cada uma das operações realizadas:**"
      ]
    },
    {
      "cell_type": "markdown",
      "metadata": {
        "id": "bOkWpJoPdmUt"
      },
      "source": [
        "\n",
        "\n",
        "\n",
        "*  r = a + b - c\n",
        "*  r = a * (b + c)\n",
        "*  r = (a + b) / c\n",
        "*  r = (a + b + c) / 3"
      ]
    },
    {
      "cell_type": "code",
      "metadata": {
        "id": "3BCXnLa5dqh4",
        "colab": {
          "base_uri": "https://localhost:8080/"
        },
        "outputId": "3f933bfe-71e4-4efe-923f-6bbede8fc26a"
      },
      "source": [
        "#escreva seu código aqui\n",
        "\n",
        "a = 15\n",
        "b = 23\n",
        "c = 10\n",
        "\n",
        "r = a + b - c\n",
        "print(r)\n",
        "\n",
        "r = a * (b + c)\n",
        "print(r)\n",
        "\n",
        "r = (a + b) / c\n",
        "print(r)\n",
        "\n",
        "r = (a + b + c) / 3\n",
        "print(r)\n",
        "\n",
        "\n"
      ],
      "execution_count": 11,
      "outputs": [
        {
          "output_type": "stream",
          "name": "stdout",
          "text": [
            "28\n",
            "495\n",
            "3.8\n",
            "16.0\n"
          ]
        }
      ]
    },
    {
      "cell_type": "markdown",
      "source": [
        "**Utilize os valores de n1 = 2, n2 = 3, n3 = -1 e n4 = 8 e imprima na tela o resultado das expressões lógicas a seguir (True ou False).**"
      ],
      "metadata": {
        "id": "jSMqNcUiZZ1z"
      }
    },
    {
      "cell_type": "markdown",
      "metadata": {
        "id": "vlqoOOFweCY8"
      },
      "source": [
        "\n",
        "\n",
        "*   n1 < n3\n",
        "*   n3 == n4\n",
        "*   n1 + n2 > n3\n",
        "*   n3 / n1 < n4\n",
        "*   n1 + n2 < 10 and n3 - n4 == n1\n",
        "*   n3 / n2 > 0 or n1 + n3 > n4\n",
        "\n"
      ]
    },
    {
      "cell_type": "code",
      "metadata": {
        "id": "XuivdSgaeT4I",
        "colab": {
          "base_uri": "https://localhost:8080/"
        },
        "outputId": "481ca148-01d4-4cb3-d5d8-65175e6ba19a"
      },
      "source": [
        "#escreva seu código aqui\n",
        "\n",
        "n1 = 2\n",
        "n2 = 3\n",
        "n3 = -1\n",
        "n4 = 8\n",
        "\n",
        "print(n1 < n3)\n",
        "print(n3 == n4)\n",
        "print(n1 + n2 > n3)\n",
        "print(n3 / n1 < n4)\n",
        "print(n1 + n2 < 10 and n3 - n4 == n1)\n",
        "print(n3 / n2 > 0 or n1 + n3 > n4)"
      ],
      "execution_count": 9,
      "outputs": [
        {
          "output_type": "stream",
          "name": "stdout",
          "text": [
            "False\n",
            "False\n",
            "True\n",
            "True\n",
            "False\n",
            "False\n"
          ]
        }
      ]
    }
  ]
}