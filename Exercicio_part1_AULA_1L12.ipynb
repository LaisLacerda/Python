{
  "nbformat": 4,
  "nbformat_minor": 0,
  "metadata": {
    "colab": {
      "name": "Exercicio_part1- AULA 1L12.ipynb",
      "provenance": [],
      "collapsed_sections": [],
      "include_colab_link": true
    },
    "kernelspec": {
      "name": "python3",
      "display_name": "Python 3"
    },
    "language_info": {
      "name": "python"
    }
  },
  "cells": [
    {
      "cell_type": "markdown",
      "metadata": {
        "id": "view-in-github",
        "colab_type": "text"
      },
      "source": [
        "<a href=\"https://colab.research.google.com/github/LaisLacerda/Python/blob/main/Exercicio_part1_AULA_1L12.ipynb\" target=\"_parent\"><img src=\"https://colab.research.google.com/assets/colab-badge.svg\" alt=\"Open In Colab\"/></a>"
      ]
    },
    {
      "cell_type": "markdown",
      "metadata": {
        "id": "QGYr7MlqeSlC"
      },
      "source": [
        "**Comando em Python utilizado para exibir texto na tela**"
      ]
    },
    {
      "cell_type": "code",
      "metadata": {
        "id": "kjUvtIxHeF1I"
      },
      "source": [
        "#escreva seu código aqui\n",
        "\n",
        "print('Estou participando da Trilha de Inteligencia Artificial.')"
      ],
      "execution_count": null,
      "outputs": []
    },
    {
      "cell_type": "markdown",
      "source": [
        "**Escreva um programa em Python que solicita ao usuário que digite seu nome, e em seguida armazena em uma variável o que foi digitado, exibindo uma mensagem personalizada na tela.**"
      ],
      "metadata": {
        "id": "73C2rDPfY0Eq"
      }
    },
    {
      "cell_type": "code",
      "source": [
        "#escreva seu código aqui\n",
        "\n",
        "nome = input('Digite seu nome: ')\n",
        "print('Bem vinda(o), ' + nome + '!')\n"
      ],
      "metadata": {
        "id": "0ebgtKLgZAlg"
      },
      "execution_count": null,
      "outputs": []
    },
    {
      "cell_type": "markdown",
      "metadata": {
        "id": "smHB_KEPMX1s"
      },
      "source": [
        "**Escreva um programa em Python que recebe dois números e mostra o resultado da soma e a diferença entre os dois.**"
      ]
    },
    {
      "cell_type": "code",
      "metadata": {
        "id": "mH3swrdLMZX6"
      },
      "source": [
        "#escreva seu código aqui\n",
        "\n",
        "numero1 = int(input('Digite um numero: '))\n",
        "numero2 = int(input('Digite outro numero: '))\n",
        "\n",
        "soma = numero1 + numero2\n",
        "subtracao = numero1 - numero2\n",
        "print('A soma de ', numero1, ' + ' , numero2 , ' é: ' , soma)\n",
        "print('A diferença entre eles é de: ' , subtracao) "
      ],
      "execution_count": null,
      "outputs": []
    },
    {
      "cell_type": "markdown",
      "metadata": {
        "id": "CDOR4sxXdjLx"
      },
      "source": [
        "**Armazene três números nas variáveis “a”, “b” e “c”, realize as operações solicitadas e armazene o resultado na variável \"r\". Exiba na tela o resultado de cada uma das operações realizadas:**"
      ]
    },
    {
      "cell_type": "code",
      "metadata": {
        "id": "3BCXnLa5dqh4"
      },
      "source": [
        "#escreva seu código aqui\n",
        "\n",
        "a = 15\n",
        "b = 23\n",
        "c = 10\n",
        "\n",
        "r = a + b - c\n",
        "print(r)\n",
        "\n",
        "r = a * (b + c)\n",
        "print(r)\n",
        "\n",
        "r = (a + b) / c\n",
        "print(r)\n",
        "\n",
        "r = (a + b + c) / 3\n",
        "print(r)\n",
        "\n",
        "\n"
      ],
      "execution_count": null,
      "outputs": []
    },
    {
      "cell_type": "markdown",
      "source": [
        "**Utilize os valores de n1 = 2, n2 = 3, n3 = -1 e n4 = 8 e imprima na tela o resultado das expressões lógicas a seguir (True ou False).**"
      ],
      "metadata": {
        "id": "jSMqNcUiZZ1z"
      }
    },
    {
      "cell_type": "code",
      "metadata": {
        "id": "XuivdSgaeT4I"
      },
      "source": [
        "#escreva seu código aqui\n",
        "\n",
        "n1 = 2\n",
        "n2 = 3\n",
        "n3 = -1\n",
        "n4 = 8\n",
        "\n",
        "print(n1 < n3)\n",
        "print(n3 == n4)\n",
        "print(n1 + n2 > n3)\n",
        "print(n3 / n1 < n4)\n",
        "print(n1 + n2 < 10 and n3 - n4 == n1)\n",
        "print(n3 / n2 > 0 or n1 + n3 > n4)"
      ],
      "execution_count": null,
      "outputs": []
    }
  ]
}